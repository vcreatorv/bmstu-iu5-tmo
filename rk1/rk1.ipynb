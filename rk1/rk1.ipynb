{
 "cells": [
  {
   "cell_type": "markdown",
   "id": "fb831135",
   "metadata": {},
   "source": [
    "# МГТУ им. Н.Э.Баумана | ИУ5 | 6 семестр | ТМО | РК№1"
   ]
  },
  {
   "cell_type": "markdown",
   "id": "0ddacd72",
   "metadata": {},
   "source": [
    "#### ИУ5-63Б | Нагапетян Валерий | Вариант № 15\n",
    "<b>Заданиe</b>: https://github.com/ugapanyuk/courses_current/wiki/TMO_RK_1\n",
    "\n",
    "<b>Датасет</b>: https://www.kaggle.com/datasets/lava18/google-play-store-apps?resource=download\n",
    "\n",
    "<b>Задача №2.</b> Для заданного набора данных проведите обработку пропусков в данных для одного категориального и одного количественного признака. Какие способы обработки пропусков в данных для категориальных и количественных признаков Вы использовали? Какие признаки Вы будете использовать для дальнейшего построения моделей машинного обучения и почему?\n",
    "\n",
    "Для произвольной колонки данных построить график \"Ящик с усами (boxplot)\"."
   ]
  },
  {
   "cell_type": "markdown",
   "id": "28e2e617",
   "metadata": {},
   "source": [
    "### Импортируем необходимые зависимости"
   ]
  },
  {
   "cell_type": "code",
   "execution_count": 76,
   "id": "7990b396",
   "metadata": {},
   "outputs": [],
   "source": [
    "import pandas as pd\n",
    "import numpy as np\n",
    "import matplotlib.pyplot as plt\n",
    "import seaborn as sns"
   ]
  },
  {
   "cell_type": "markdown",
   "id": "355683c5",
   "metadata": {},
   "source": [
    "### Загружаем датасет и выводим информацию о нем"
   ]
  },
  {
   "cell_type": "code",
   "execution_count": 77,
   "id": "ce73d29e",
   "metadata": {},
   "outputs": [
    {
     "name": "stdout",
     "output_type": "stream",
     "text": [
      "<class 'pandas.core.frame.DataFrame'>\n",
      "RangeIndex: 10841 entries, 0 to 10840\n",
      "Data columns (total 13 columns):\n",
      " #   Column          Non-Null Count  Dtype  \n",
      "---  ------          --------------  -----  \n",
      " 0   App             10841 non-null  object \n",
      " 1   Category        10841 non-null  object \n",
      " 2   Rating          9367 non-null   float64\n",
      " 3   Reviews         10841 non-null  object \n",
      " 4   Size            10841 non-null  object \n",
      " 5   Installs        10841 non-null  object \n",
      " 6   Type            10840 non-null  object \n",
      " 7   Price           10841 non-null  object \n",
      " 8   Content Rating  10840 non-null  object \n",
      " 9   Genres          10841 non-null  object \n",
      " 10  Last Updated    10841 non-null  object \n",
      " 11  Current Ver     10833 non-null  object \n",
      " 12  Android Ver     10838 non-null  object \n",
      "dtypes: float64(1), object(12)\n",
      "memory usage: 1.1+ MB\n"
     ]
    },
    {
     "data": {
      "text/html": [
       "<div>\n",
       "<style scoped>\n",
       "    .dataframe tbody tr th:only-of-type {\n",
       "        vertical-align: middle;\n",
       "    }\n",
       "\n",
       "    .dataframe tbody tr th {\n",
       "        vertical-align: top;\n",
       "    }\n",
       "\n",
       "    .dataframe thead th {\n",
       "        text-align: right;\n",
       "    }\n",
       "</style>\n",
       "<table border=\"1\" class=\"dataframe\">\n",
       "  <thead>\n",
       "    <tr style=\"text-align: right;\">\n",
       "      <th></th>\n",
       "      <th>App</th>\n",
       "      <th>Category</th>\n",
       "      <th>Rating</th>\n",
       "      <th>Reviews</th>\n",
       "      <th>Size</th>\n",
       "      <th>Installs</th>\n",
       "      <th>Type</th>\n",
       "      <th>Price</th>\n",
       "      <th>Content Rating</th>\n",
       "      <th>Genres</th>\n",
       "      <th>Last Updated</th>\n",
       "      <th>Current Ver</th>\n",
       "      <th>Android Ver</th>\n",
       "    </tr>\n",
       "  </thead>\n",
       "  <tbody>\n",
       "    <tr>\n",
       "      <th>0</th>\n",
       "      <td>Photo Editor &amp; Candy Camera &amp; Grid &amp; ScrapBook</td>\n",
       "      <td>ART_AND_DESIGN</td>\n",
       "      <td>4.1</td>\n",
       "      <td>159</td>\n",
       "      <td>19M</td>\n",
       "      <td>10,000+</td>\n",
       "      <td>Free</td>\n",
       "      <td>0</td>\n",
       "      <td>Everyone</td>\n",
       "      <td>Art &amp; Design</td>\n",
       "      <td>January 7, 2018</td>\n",
       "      <td>1.0.0</td>\n",
       "      <td>4.0.3 and up</td>\n",
       "    </tr>\n",
       "    <tr>\n",
       "      <th>1</th>\n",
       "      <td>Coloring book moana</td>\n",
       "      <td>ART_AND_DESIGN</td>\n",
       "      <td>3.9</td>\n",
       "      <td>967</td>\n",
       "      <td>14M</td>\n",
       "      <td>500,000+</td>\n",
       "      <td>Free</td>\n",
       "      <td>0</td>\n",
       "      <td>Everyone</td>\n",
       "      <td>Art &amp; Design;Pretend Play</td>\n",
       "      <td>January 15, 2018</td>\n",
       "      <td>2.0.0</td>\n",
       "      <td>4.0.3 and up</td>\n",
       "    </tr>\n",
       "    <tr>\n",
       "      <th>2</th>\n",
       "      <td>U Launcher Lite – FREE Live Cool Themes, Hide ...</td>\n",
       "      <td>ART_AND_DESIGN</td>\n",
       "      <td>4.7</td>\n",
       "      <td>87510</td>\n",
       "      <td>8.7M</td>\n",
       "      <td>5,000,000+</td>\n",
       "      <td>Free</td>\n",
       "      <td>0</td>\n",
       "      <td>Everyone</td>\n",
       "      <td>Art &amp; Design</td>\n",
       "      <td>August 1, 2018</td>\n",
       "      <td>1.2.4</td>\n",
       "      <td>4.0.3 and up</td>\n",
       "    </tr>\n",
       "    <tr>\n",
       "      <th>3</th>\n",
       "      <td>Sketch - Draw &amp; Paint</td>\n",
       "      <td>ART_AND_DESIGN</td>\n",
       "      <td>4.5</td>\n",
       "      <td>215644</td>\n",
       "      <td>25M</td>\n",
       "      <td>50,000,000+</td>\n",
       "      <td>Free</td>\n",
       "      <td>0</td>\n",
       "      <td>Teen</td>\n",
       "      <td>Art &amp; Design</td>\n",
       "      <td>June 8, 2018</td>\n",
       "      <td>Varies with device</td>\n",
       "      <td>4.2 and up</td>\n",
       "    </tr>\n",
       "    <tr>\n",
       "      <th>4</th>\n",
       "      <td>Pixel Draw - Number Art Coloring Book</td>\n",
       "      <td>ART_AND_DESIGN</td>\n",
       "      <td>4.3</td>\n",
       "      <td>967</td>\n",
       "      <td>2.8M</td>\n",
       "      <td>100,000+</td>\n",
       "      <td>Free</td>\n",
       "      <td>0</td>\n",
       "      <td>Everyone</td>\n",
       "      <td>Art &amp; Design;Creativity</td>\n",
       "      <td>June 20, 2018</td>\n",
       "      <td>1.1</td>\n",
       "      <td>4.4 and up</td>\n",
       "    </tr>\n",
       "  </tbody>\n",
       "</table>\n",
       "</div>"
      ],
      "text/plain": [
       "                                                 App        Category  Rating  \\\n",
       "0     Photo Editor & Candy Camera & Grid & ScrapBook  ART_AND_DESIGN     4.1   \n",
       "1                                Coloring book moana  ART_AND_DESIGN     3.9   \n",
       "2  U Launcher Lite – FREE Live Cool Themes, Hide ...  ART_AND_DESIGN     4.7   \n",
       "3                              Sketch - Draw & Paint  ART_AND_DESIGN     4.5   \n",
       "4              Pixel Draw - Number Art Coloring Book  ART_AND_DESIGN     4.3   \n",
       "\n",
       "  Reviews  Size     Installs  Type Price Content Rating  \\\n",
       "0     159   19M      10,000+  Free     0       Everyone   \n",
       "1     967   14M     500,000+  Free     0       Everyone   \n",
       "2   87510  8.7M   5,000,000+  Free     0       Everyone   \n",
       "3  215644   25M  50,000,000+  Free     0           Teen   \n",
       "4     967  2.8M     100,000+  Free     0       Everyone   \n",
       "\n",
       "                      Genres      Last Updated         Current Ver  \\\n",
       "0               Art & Design   January 7, 2018               1.0.0   \n",
       "1  Art & Design;Pretend Play  January 15, 2018               2.0.0   \n",
       "2               Art & Design    August 1, 2018               1.2.4   \n",
       "3               Art & Design      June 8, 2018  Varies with device   \n",
       "4    Art & Design;Creativity     June 20, 2018                 1.1   \n",
       "\n",
       "    Android Ver  \n",
       "0  4.0.3 and up  \n",
       "1  4.0.3 and up  \n",
       "2  4.0.3 and up  \n",
       "3    4.2 and up  \n",
       "4    4.4 and up  "
      ]
     },
     "execution_count": 77,
     "metadata": {},
     "output_type": "execute_result"
    }
   ],
   "source": [
    "df = pd.read_csv(\"googleplaystore.csv\")\n",
    "df.info()\n",
    "df.head(5)"
   ]
  },
  {
   "cell_type": "markdown",
   "id": "f002741d",
   "metadata": {},
   "source": [
    "### Проверяем количество пропусков в данных"
   ]
  },
  {
   "cell_type": "code",
   "execution_count": 78,
   "id": "1064fd46",
   "metadata": {},
   "outputs": [
    {
     "data": {
      "text/plain": [
       "App                  0\n",
       "Category             0\n",
       "Rating            1474\n",
       "Reviews              0\n",
       "Size                 0\n",
       "Installs             0\n",
       "Type                 1\n",
       "Price                0\n",
       "Content Rating       1\n",
       "Genres               0\n",
       "Last Updated         0\n",
       "Current Ver          8\n",
       "Android Ver          3\n",
       "dtype: int64"
      ]
     },
     "execution_count": 78,
     "metadata": {},
     "output_type": "execute_result"
    }
   ],
   "source": [
    "df.isnull().sum()"
   ]
  },
  {
   "cell_type": "markdown",
   "id": "629c4185",
   "metadata": {},
   "source": [
    "### Обрабатываем пропуски"
   ]
  },
  {
   "cell_type": "markdown",
   "id": "bcdbb3b8",
   "metadata": {},
   "source": [
    "#### Для количественного признака Rating\n",
    "\n",
    "Метод: Замена на медиану.\n",
    "Почему?\n",
    "- `Rating` — числовая величина, которая может содержать выбросы (например, приложения с аномально высокими или низкими оценками).\n",
    "- Медиана менее чувствительна к выбросам, чем среднее (mean), поэтому она лучше сохраняет распределение данных."
   ]
  },
  {
   "cell_type": "code",
   "execution_count": 79,
   "id": "21eac1cd",
   "metadata": {},
   "outputs": [],
   "source": [
    "median_rating = df['Rating'].median()\n",
    "df['Rating'] = df['Rating'].fillna(median_rating)"
   ]
  },
  {
   "cell_type": "markdown",
   "id": "7f646cdc",
   "metadata": {},
   "source": [
    "#### Для категориального признака Type\n",
    "Метод: Замена на моду.\n",
    "Почему?\n",
    "- `Type` — категориальный признак (значения Free/Paid).\n",
    "- В датасете всего 1 пропуск, поэтому логично заменить его на самое распространённое значение (Free, так как бесплатных приложений в магазине больше)."
   ]
  },
  {
   "cell_type": "code",
   "execution_count": 80,
   "id": "0befb302",
   "metadata": {},
   "outputs": [],
   "source": [
    "mode_type = df['Type'].mode()[0]\n",
    "df['Type'] = df['Type'].fillna(mode_type)"
   ]
  },
  {
   "cell_type": "markdown",
   "id": "cc59a03a",
   "metadata": {},
   "source": [
    "### Проверка, что пропуски устранены"
   ]
  },
  {
   "cell_type": "code",
   "execution_count": 81,
   "id": "c620418c",
   "metadata": {},
   "outputs": [
    {
     "name": "stdout",
     "output_type": "stream",
     "text": [
      "Пропуски после обработки:\n",
      "Rating    0\n",
      "Type      0\n",
      "dtype: int64\n"
     ]
    }
   ],
   "source": [
    "print(\"Пропуски после обработки:\")\n",
    "print(df[['Rating', 'Type']].isnull().sum())"
   ]
  },
  {
   "cell_type": "markdown",
   "id": "c962f756",
   "metadata": {},
   "source": [
    "### Построение boxplot "
   ]
  },
  {
   "cell_type": "code",
   "execution_count": 82,
   "id": "5d65eecb",
   "metadata": {},
   "outputs": [
    {
     "data": {
      "image/png": "[encoded data removed]",
      "text/plain": [
       "<Figure size 1000x600 with 1 Axes>"
      ]
     },
     "metadata": {},
     "output_type": "display_data"
    }
   ],
   "source": [
    "plt.figure(figsize=(10, 6))\n",
    "sns.boxplot(x=df['Rating'])\n",
    "plt.title('Распределение рейтинга приложений (Ящик с усами)')\n",
    "plt.xlabel('Rating')\n",
    "plt.show()"
   ]
  },
  {
   "cell_type": "markdown",
   "id": "3a083357",
   "metadata": {},
   "source": [
    "###  Выбросы"
   ]
  },
  {
   "cell_type": "code",
   "execution_count": 83,
   "id": "f5f9174e",
   "metadata": {},
   "outputs": [
    {
     "name": "stdout",
     "output_type": "stream",
     "text": [
      "\n",
      "Статистика по колонке Rating:\n",
      "count    10841.000000\n",
      "mean         4.207841\n",
      "std          0.500893\n",
      "min          1.000000\n",
      "25%          4.100000\n",
      "50%          4.300000\n",
      "75%          4.500000\n",
      "max         19.000000\n",
      "Name: Rating, dtype: float64\n",
      "\n",
      "Количество выбросов: 734\n"
     ]
    }
   ],
   "source": [
    "print(\"\\nСтатистика по колонке Rating:\")\n",
    "print(df['Rating'].describe())\n",
    "\n",
    "Q1 = df['Rating'].quantile(0.25)\n",
    "Q3 = df['Rating'].quantile(0.75)\n",
    "IQR = Q3 - Q1\n",
    "lower_bound = Q1 - 1.5*IQR\n",
    "upper_bound = Q3 + 1.5*IQR\n",
    "outliers = df[(df['Rating'] < lower_bound) | (df['Rating'] > upper_bound)]\n",
    "print(f\"\\nКоличество выбросов: {len(outliers)}\")"
   ]
  },
  {
   "cell_type": "markdown",
   "id": "a1e2479d",
   "metadata": {},
   "source": [
    "Для построения моделей машинного обучения на датасете Google Play Store я бы выбрал следующие признаки\n",
    "\n",
    "1. Категориальные признаки\n",
    "- Category (категория приложения). Влияет на популярность и рейтинг (например, игры и соцсети имеют разную аудиторию).\n",
    "\n",
    "- Type (платное/бесплатное). Бесплатные приложения обычно имеют больше установок.\n",
    "\n",
    "- Content Rating (возрастной рейтинг). Например, приложения для взрослых могут иметь меньше установок.\n",
    "\n",
    "- Genres (жанры). Более детализировано, чем Category. Например, \"Action Games\" vs \"Puzzle Games\".\n",
    "\n",
    "2. Числовые признаки\n",
    "- Rating (рейтинг приложения). Прямо влияет на популярность. Может быть целевой переменной.\n",
    "\n",
    "- Reviews (количество отзывов). Чем больше отзывов, тем популярнее приложение.\n",
    "\n",
    "- Installs (количество установок). Главный показатель успеха приложения. Может быть целевой переменной.\n",
    "\n",
    "- Price (цена). Платные приложения имеют меньшую аудиторию."
   ]
  }
 ],
 "metadata": {
  "kernelspec": {
   "display_name": "venv",
   "language": "python",
   "name": "python3"
  },
  "language_info": {
   "codemirror_mode": {
    "name": "ipython",
    "version": 3
   },
   "file_extension": ".py",
   "mimetype": "text/x-python",
   "name": "python",
   "nbconvert_exporter": "python",
   "pygments_lexer": "ipython3",
   "version": "3.11.4"
  }
 },
 "nbformat": 4,
 "nbformat_minor": 5
}
