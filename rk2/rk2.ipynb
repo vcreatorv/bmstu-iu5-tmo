{
 "cells": [
  {
   "cell_type": "markdown",
   "id": "9dc34489",
   "metadata": {},
   "source": [
    "# МГТУ им. Н.Э.Баумана | ИУ5 | 6 семестр | ТМО | РК№2"
   ]
  },
  {
   "cell_type": "markdown",
   "id": "6b2e0117",
   "metadata": {},
   "source": [
    "#### ИУ5-63Б | Нагапетян Валерий | Вариант № 15\n",
    "<b>Заданиe</b>: https://github.com/ugapanyuk/courses_current/wiki/TMO_RK_2\n",
    "\n",
    "<b>Датасет</b>: https://www.kaggle.com/datasets/noriuk/us-education-datasets-unification-project\n",
    "\n",
    "<b>Задание</b>:  Для заданного набора данных (по Вашему варианту) постройте модели классификации или регрессии (в зависимости от конкретной задачи, рассматриваемой в наборе данных). Для построения моделей используйте методы 1 и 2 (по варианту для Вашей группы). Оцените качество моделей на основе подходящих метрик качества (не менее двух метрик). Какие метрики качества Вы использовали и почему? Какие выводы Вы можете сделать о качестве построенных моделей? Для построения моделей необходимо выполнить требуемую предобработку данных: заполнение пропусков, кодирование категориальных признаков, и т.д.\n",
    "\n",
    "<b>Метод №1</b>: Дерево решений\n",
    "<b>Метод №2</b>: Случайный лес"
   ]
  },
  {
   "cell_type": "markdown",
   "id": "251e93b3",
   "metadata": {},
   "source": [
    "### Импорт библиотек"
   ]
  },
  {
   "cell_type": "code",
   "execution_count": 51,
   "id": "eccfc06a",
   "metadata": {},
   "outputs": [],
   "source": [
    "import pandas as pd\n",
    "import matplotlib.pyplot as plt\n",
    "import seaborn as sns\n",
    "from sklearn.model_selection import train_test_split\n",
    "from sklearn.tree import DecisionTreeRegressor\n",
    "from sklearn.ensemble import RandomForestRegressor\n",
    "from sklearn.metrics import mean_squared_error, r2_score"
   ]
  },
  {
   "cell_type": "markdown",
   "id": "a6d9b13e",
   "metadata": {},
   "source": [
    "### Загрузка данных и первичный анализ"
   ]
  },
  {
   "cell_type": "code",
   "execution_count": 52,
   "id": "9f73a48f",
   "metadata": {},
   "outputs": [
    {
     "name": "stdout",
     "output_type": "stream",
     "text": [
      "Информация о датасете:\n",
      "<class 'pandas.core.frame.DataFrame'>\n",
      "RangeIndex: 1715 entries, 0 to 1714\n",
      "Data columns (total 25 columns):\n",
      " #   Column                        Non-Null Count  Dtype  \n",
      "---  ------                        --------------  -----  \n",
      " 0   PRIMARY_KEY                   1715 non-null   object \n",
      " 1   STATE                         1715 non-null   object \n",
      " 2   YEAR                          1715 non-null   int64  \n",
      " 3   ENROLL                        1224 non-null   float64\n",
      " 4   TOTAL_REVENUE                 1275 non-null   float64\n",
      " 5   FEDERAL_REVENUE               1275 non-null   float64\n",
      " 6   STATE_REVENUE                 1275 non-null   float64\n",
      " 7   LOCAL_REVENUE                 1275 non-null   float64\n",
      " 8   TOTAL_EXPENDITURE             1275 non-null   float64\n",
      " 9   INSTRUCTION_EXPENDITURE       1275 non-null   float64\n",
      " 10  SUPPORT_SERVICES_EXPENDITURE  1275 non-null   float64\n",
      " 11  OTHER_EXPENDITURE             1224 non-null   float64\n",
      " 12  CAPITAL_OUTLAY_EXPENDITURE    1275 non-null   float64\n",
      " 13  GRADES_PK_G                   1542 non-null   float64\n",
      " 14  GRADES_KG_G                   1632 non-null   float64\n",
      " 15  GRADES_4_G                    1632 non-null   float64\n",
      " 16  GRADES_8_G                    1632 non-null   float64\n",
      " 17  GRADES_12_G                   1632 non-null   float64\n",
      " 18  GRADES_1_8_G                  1020 non-null   float64\n",
      " 19  GRADES_9_12_G                 1071 non-null   float64\n",
      " 20  GRADES_ALL_G                  1632 non-null   float64\n",
      " 21  AVG_MATH_4_SCORE              565 non-null    float64\n",
      " 22  AVG_MATH_8_SCORE              602 non-null    float64\n",
      " 23  AVG_READING_4_SCORE           650 non-null    float64\n",
      " 24  AVG_READING_8_SCORE           562 non-null    float64\n",
      "dtypes: float64(22), int64(1), object(2)\n",
      "memory usage: 335.1+ KB\n",
      "\n",
      "Первые 5 строк данных:\n",
      "       PRIMARY_KEY       STATE  YEAR  ENROLL  TOTAL_REVENUE  FEDERAL_REVENUE  \\\n",
      "0     1992_ALABAMA     ALABAMA  1992     NaN      2678885.0         304177.0   \n",
      "1      1992_ALASKA      ALASKA  1992     NaN      1049591.0         106780.0   \n",
      "2     1992_ARIZONA     ARIZONA  1992     NaN      3258079.0         297888.0   \n",
      "3    1992_ARKANSAS    ARKANSAS  1992     NaN      1711959.0         178571.0   \n",
      "4  1992_CALIFORNIA  CALIFORNIA  1992     NaN     26260025.0        2072470.0   \n",
      "\n",
      "   STATE_REVENUE  LOCAL_REVENUE  TOTAL_EXPENDITURE  INSTRUCTION_EXPENDITURE  \\\n",
      "0      1659028.0       715680.0          2653798.0                1481703.0   \n",
      "1       720711.0       222100.0           972488.0                 498362.0   \n",
      "2      1369815.0      1590376.0          3401580.0                1435908.0   \n",
      "3       958785.0       574603.0          1743022.0                 964323.0   \n",
      "4     16546514.0      7641041.0         27138832.0               14358922.0   \n",
      "\n",
      "   ...  GRADES_4_G  GRADES_8_G  GRADES_12_G  GRADES_1_8_G  GRADES_9_12_G  \\\n",
      "0  ...     57948.0     58025.0      41167.0           NaN            NaN   \n",
      "1  ...      9748.0      8789.0       6714.0           NaN            NaN   \n",
      "2  ...     55433.0     49081.0      37410.0           NaN            NaN   \n",
      "3  ...     34632.0     36011.0      27651.0           NaN            NaN   \n",
      "4  ...    418418.0    363296.0     270675.0           NaN            NaN   \n",
      "\n",
      "   GRADES_ALL_G  AVG_MATH_4_SCORE  AVG_MATH_8_SCORE  AVG_READING_4_SCORE  \\\n",
      "0      731634.0             208.0             252.0                207.0   \n",
      "1      122487.0               NaN               NaN                  NaN   \n",
      "2      673477.0             215.0             265.0                209.0   \n",
      "3      441490.0             210.0             256.0                211.0   \n",
      "4     5254844.0             208.0             261.0                202.0   \n",
      "\n",
      "   AVG_READING_8_SCORE  \n",
      "0                  NaN  \n",
      "1                  NaN  \n",
      "2                  NaN  \n",
      "3                  NaN  \n",
      "4                  NaN  \n",
      "\n",
      "[5 rows x 25 columns]\n"
     ]
    }
   ],
   "source": [
    "# Загрузка данных\n",
    "df = pd.read_csv(\"states_all.csv\")\n",
    "\n",
    "# Вывод информации о датасете\n",
    "print(\"Информация о датасете:\")\n",
    "df.info()\n",
    "\n",
    "# Просмотр первых 5 строк\n",
    "print(\"\\nПервые 5 строк данных:\")\n",
    "print(df.head())"
   ]
  },
  {
   "cell_type": "markdown",
   "id": "ff606b43",
   "metadata": {},
   "source": [
    "### Анализ и обработка пропусков"
   ]
  },
  {
   "cell_type": "code",
   "execution_count": 53,
   "id": "5168f328",
   "metadata": {},
   "outputs": [
    {
     "name": "stdout",
     "output_type": "stream",
     "text": [
      "\n",
      "Количество пропусков по столбцам:\n",
      "PRIMARY_KEY                        0\n",
      "STATE                              0\n",
      "YEAR                               0\n",
      "ENROLL                           491\n",
      "TOTAL_REVENUE                    440\n",
      "FEDERAL_REVENUE                  440\n",
      "STATE_REVENUE                    440\n",
      "LOCAL_REVENUE                    440\n",
      "TOTAL_EXPENDITURE                440\n",
      "INSTRUCTION_EXPENDITURE          440\n",
      "SUPPORT_SERVICES_EXPENDITURE     440\n",
      "OTHER_EXPENDITURE                491\n",
      "CAPITAL_OUTLAY_EXPENDITURE       440\n",
      "GRADES_PK_G                      173\n",
      "GRADES_KG_G                       83\n",
      "GRADES_4_G                        83\n",
      "GRADES_8_G                        83\n",
      "GRADES_12_G                       83\n",
      "GRADES_1_8_G                     695\n",
      "GRADES_9_12_G                    644\n",
      "GRADES_ALL_G                      83\n",
      "AVG_MATH_4_SCORE                1150\n",
      "AVG_MATH_8_SCORE                1113\n",
      "AVG_READING_4_SCORE             1065\n",
      "AVG_READING_8_SCORE             1153\n",
      "dtype: int64\n",
      "\n",
      "Пропуски после обработки:\n",
      "PRIMARY_KEY                     0\n",
      "STATE                           0\n",
      "YEAR                            0\n",
      "ENROLL                          0\n",
      "TOTAL_REVENUE                   0\n",
      "FEDERAL_REVENUE                 0\n",
      "STATE_REVENUE                   0\n",
      "LOCAL_REVENUE                   0\n",
      "TOTAL_EXPENDITURE               0\n",
      "INSTRUCTION_EXPENDITURE         0\n",
      "SUPPORT_SERVICES_EXPENDITURE    0\n",
      "OTHER_EXPENDITURE               0\n",
      "CAPITAL_OUTLAY_EXPENDITURE      0\n",
      "GRADES_PK_G                     0\n",
      "GRADES_KG_G                     0\n",
      "GRADES_4_G                      0\n",
      "GRADES_8_G                      0\n",
      "GRADES_12_G                     0\n",
      "GRADES_1_8_G                    0\n",
      "GRADES_9_12_G                   0\n",
      "GRADES_ALL_G                    0\n",
      "AVG_MATH_4_SCORE                0\n",
      "AVG_MATH_8_SCORE                0\n",
      "AVG_READING_4_SCORE             0\n",
      "AVG_READING_8_SCORE             0\n",
      "dtype: int64\n"
     ]
    }
   ],
   "source": [
    "print(\"\\nКоличество пропусков по столбцам:\")\n",
    "print(df.isnull().sum())\n",
    "\n",
    "# Удаление строк, где целевая переменная AVG_MATH_8_SCORE отсутствует\n",
    "df = df.dropna(subset=['AVG_MATH_8_SCORE'])\n",
    "\n",
    "# Заполнение пропусков в числовых признаках медианой\n",
    "numeric_cols = df.select_dtypes(include=['float64', 'int64']).columns\n",
    "df[numeric_cols] = df[numeric_cols].fillna(df[numeric_cols].median())\n",
    "\n",
    "# Проверка, что пропусков нет\n",
    "print(\"\\nПропуски после обработки:\")\n",
    "print(df.isnull().sum())"
   ]
  },
  {
   "cell_type": "markdown",
   "id": "e357d274",
   "metadata": {},
   "source": [
    "### Подготовка данных"
   ]
  },
  {
   "cell_type": "code",
   "execution_count": 54,
   "id": "5f4117d9",
   "metadata": {},
   "outputs": [],
   "source": [
    "# Удаление ненужных столбцов\n",
    "df.drop(['PRIMARY_KEY', 'STATE'], axis=1, inplace=True)\n",
    "\n",
    "# Выбор признаков и целевой переменной\n",
    "features = [\n",
    "    'TOTAL_REVENUE', 'TOTAL_EXPENDITURE', \n",
    "    'GRADES_ALL_G', 'ENROLL'\n",
    "]\n",
    "target = 'AVG_MATH_8_SCORE'\n",
    "\n",
    "# Разделение на train/test\n",
    "X = df[features]\n",
    "y = df[target]\n",
    "X_train, X_test, y_train, y_test = train_test_split(X, y, test_size=0.2, random_state=42)"
   ]
  },
  {
   "cell_type": "markdown",
   "id": "bb754594",
   "metadata": {},
   "source": [
    "### Дерево решений"
   ]
  },
  {
   "cell_type": "code",
   "execution_count": 55,
   "id": "f2f24222",
   "metadata": {},
   "outputs": [
    {
     "name": "stdout",
     "output_type": "stream",
     "text": [
      "\n",
      "Decision Tree:\n",
      "MSE = 57.58, R² = 0.38\n"
     ]
    }
   ],
   "source": [
    "# Обучение модели\n",
    "dt_model = DecisionTreeRegressor(random_state=42)\n",
    "dt_model.fit(X_train, y_train)\n",
    "\n",
    "# Предсказание и оценка\n",
    "y_pred_dt = dt_model.predict(X_test)\n",
    "mse_dt = mean_squared_error(y_test, y_pred_dt)\n",
    "r2_dt = r2_score(y_test, y_pred_dt)\n",
    "\n",
    "print(\"\\nDecision Tree:\")\n",
    "print(f\"MSE = {mse_dt:.2f}, R² = {r2_dt:.2f}\")"
   ]
  },
  {
   "cell_type": "markdown",
   "id": "b7fc2567",
   "metadata": {},
   "source": [
    "### Случайный лес"
   ]
  },
  {
   "cell_type": "code",
   "execution_count": 56,
   "id": "c70d042d",
   "metadata": {},
   "outputs": [
    {
     "name": "stdout",
     "output_type": "stream",
     "text": [
      "\n",
      "Random Forest:\n",
      "MSE = 39.89, R² = 0.57\n"
     ]
    }
   ],
   "source": [
    "# Обучение модели\n",
    "rf_model = RandomForestRegressor(n_estimators=100, random_state=42)\n",
    "rf_model.fit(X_train, y_train)\n",
    "\n",
    "# Предсказание и оценка\n",
    "y_pred_rf = rf_model.predict(X_test)\n",
    "mse_rf = mean_squared_error(y_test, y_pred_rf)\n",
    "r2_rf = r2_score(y_test, y_pred_rf)\n",
    "\n",
    "print(\"\\nRandom Forest:\")\n",
    "print(f\"MSE = {mse_rf:.2f}, R² = {r2_rf:.2f}\")"
   ]
  },
  {
   "cell_type": "markdown",
   "id": "0037c554",
   "metadata": {},
   "source": [
    "### Визуализация важности признаков"
   ]
  },
  {
   "cell_type": "code",
   "execution_count": 57,
   "id": "918e59ea",
   "metadata": {},
   "outputs": [
    {
     "data": {
      "image/png": "[encoded data removed]",
      "text/plain": [
       "<Figure size 1000x600 with 1 Axes>"
      ]
     },
     "metadata": {},
     "output_type": "display_data"
    }
   ],
   "source": [
    "plt.figure(figsize=(10, 6))\n",
    "sns.barplot(x=rf_model.feature_importances_, y=features)\n",
    "plt.xlabel('Важность признака')\n",
    "plt.ylabel('Признаки')\n",
    "plt.title('Важность признаков в случайном лесе')\n",
    "plt.show()"
   ]
  },
  {
   "cell_type": "markdown",
   "id": "f1447f7d",
   "metadata": {},
   "source": [
    "Для оценки качества моделей Random Forest и Decision Tree использовались метрики MSE (среднеквадратичная ошибка) и R² (коэффициент детерминации). Random Forest показал результаты: MSE = 39.89, R² = 0.57, что означает, что модель объясняет 57% дисперсии данных. Decision Tree работал хуже: MSE = 57.58, R² = 0.38, что говорит о переобучении или недостатке информации в данных.\n",
    "\n",
    "Вывод: Random Forest справляется лучше, но требует доработок — например, добавления признаков или настройки гиперпараметров. Decision Tree оказался слишком слабым для этой задачи. Для улучшения результатов стоит проверить данные на выбросы и попробовать другие алгоритмы, например, градиентный бустинг."
   ]
  }
 ],
 "metadata": {
  "kernelspec": {
   "display_name": "venv",
   "language": "python",
   "name": "python3"
  },
  "language_info": {
   "codemirror_mode": {
    "name": "ipython",
    "version": 3
   },
   "file_extension": ".py",
   "mimetype": "text/x-python",
   "name": "python",
   "nbconvert_exporter": "python",
   "pygments_lexer": "ipython3",
   "version": "3.11.4"
  }
 },
 "nbformat": 4,
 "nbformat_minor": 5
}
